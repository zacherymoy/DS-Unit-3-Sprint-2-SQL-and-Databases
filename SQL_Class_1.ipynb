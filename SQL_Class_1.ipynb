{
  "nbformat": 4,
  "nbformat_minor": 0,
  "metadata": {
    "colab": {
      "name": "SQL Class 1.ipynb",
      "provenance": [],
      "authorship_tag": "ABX9TyPm7MiqKNyaGXznICH9v+ft",
      "include_colab_link": true
    },
    "kernelspec": {
      "name": "python3",
      "display_name": "Python 3"
    }
  },
  "cells": [
    {
      "cell_type": "markdown",
      "metadata": {
        "id": "view-in-github",
        "colab_type": "text"
      },
      "source": [
        "<a href=\"https://colab.research.google.com/github/zacherymoy/DS-Unit-3-Sprint-2-SQL-and-Databases/blob/master/SQL_Class_1.ipynb\" target=\"_parent\"><img src=\"https://colab.research.google.com/assets/colab-badge.svg\" alt=\"Open In Colab\"/></a>"
      ]
    },
    {
      "cell_type": "code",
      "metadata": {
        "id": "VTIwnLDVSeW-",
        "colab_type": "code",
        "colab": {}
      },
      "source": [
        "How many total Characters are there? DONE 302\n",
        "SELECT * from charactercreator_character\n",
        "\n",
        "How many of each specific subclass? DONE \n",
        "Cleric SELECT * from charactercreator_cleric\n",
        "Fighter SELECT * from charactercreator_fighter\n",
        "Mage SELECT * from charactercreator_mage\n",
        "Necromancer SELECT * from charactercreator_necromancer\n",
        "Thief SELECT * from charactercreator_thief\n",
        "\n",
        "How many total Items? DONE 898\n",
        "SELECT item_id \n",
        "FROM charactercreator_character_inventory;\n",
        "\n",
        "How many of the Items are weapons? How many are not? DONE\n",
        "SELECT * from armory_item (174 for weapons)\n",
        "898-174 = 724 NOT "
      ],
      "execution_count": 0,
      "outputs": []
    },
    {
      "cell_type": "code",
      "metadata": {
        "id": "0W2Xr6I6SsSf",
        "colab_type": "code",
        "colab": {}
      },
      "source": [
        "How many Items does each character have? (Return first 20 rows) DONE\n",
        "SELECT \n",
        "character_id,\n",
        "COUNT(*) AS `num`\n",
        "FROM charactercreator_character_inventory\n",
        "GROUP BY character_id\n",
        "LIMIT 20\n"
      ],
      "execution_count": 0,
      "outputs": []
    },
    {
      "cell_type": "code",
      "metadata": {
        "id": "gPKp4mJjSvkl",
        "colab_type": "code",
        "colab": {}
      },
      "source": [
        "How many Weapons does each character have? (Return first 20 rows) ?? Should it be 174 items for ID1? (DONE/NOT RIGHT) \n",
        "SELECT *\n",
        "FROM charactercreator_character_inventory\n",
        "INNER JOIN armory_item\n",
        "ON charactercreator_character_inventory.item_id\n",
        "GROUP BY id\n",
        "LIMIT 20;\n",
        "OR? \n",
        "SELECT COUNT(*)\n",
        "FROM charactercreator_character_inventory\n",
        "INNER JOIN armory_item\n",
        "ON charactercreator_character_inventory.item_id\n",
        "GROUP BY character_id\n",
        "LIMIT 20;\n"
      ],
      "execution_count": 0,
      "outputs": []
    },
    {
      "cell_type": "code",
      "metadata": {
        "id": "h7b3pgDfS1gv",
        "colab_type": "code",
        "colab": {}
      },
      "source": [
        "On average, how many Items does each Character have? DONE\n",
        "SELECT AVG(item_id)\n",
        "FROM charactercreator_character_inventory\n",
        "INNER JOIN armory_weapon\n",
        "ON item_id = item_ptr_id\n",
        "GROUP BY character_id;\n",
        "SELECT \n",
        "AVG(item_id)\n",
        "FROM charactercreator_character_inventory\n",
        "GROUP BY character_id\n",
        "LIMIT 20\n"
      ],
      "execution_count": 0,
      "outputs": []
    },
    {
      "cell_type": "code",
      "metadata": {
        "id": "IHmoJF9bS4fj",
        "colab_type": "code",
        "colab": {}
      },
      "source": [
        "On average, how many Weapons does each character have? DONE Not sure if right\n",
        "SELECT *\n",
        "FROM armory_weapon\n",
        "INNER JOIN armory_item\n",
        "ON armory_item.item_id\n"
      ],
      "execution_count": 0,
      "outputs": []
    }
  ]
}